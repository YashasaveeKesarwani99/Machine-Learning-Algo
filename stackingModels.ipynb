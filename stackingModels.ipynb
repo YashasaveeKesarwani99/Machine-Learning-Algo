{
  "nbformat": 4,
  "nbformat_minor": 0,
  "metadata": {
    "colab": {
      "name": "Untitled24.ipynb",
      "provenance": [],
      "collapsed_sections": [],
      "authorship_tag": "ABX9TyM0B2iXkFQna2+uf8QX5YEE",
      "include_colab_link": true
    },
    "kernelspec": {
      "name": "python3",
      "display_name": "Python 3"
    }
  },
  "cells": [
    {
      "cell_type": "markdown",
      "metadata": {
        "id": "view-in-github",
        "colab_type": "text"
      },
      "source": [
        "<a href=\"https://colab.research.google.com/github/YashasaveeKesarwani99/Machine-Learning-Algo/blob/main/stackingModels.ipynb\" target=\"_parent\"><img src=\"https://colab.research.google.com/assets/colab-badge.svg\" alt=\"Open In Colab\"/></a>"
      ]
    },
    {
      "cell_type": "markdown",
      "metadata": {
        "id": "8XVBWUnv_bua"
      },
      "source": [
        "**Stacking models**"
      ]
    },
    {
      "cell_type": "code",
      "metadata": {
        "id": "-hwwcx7T_YYS"
      },
      "source": [
        "from sklearn.ensemble import GradientBoostingRegressor\r\n",
        "import numpy as np\r\n",
        "import pandas as pd\r\n",
        "from sklearn.model_selection import train_test_split\r\n",
        "from sklearn.metrics import mean_squared_error\r\n",
        "from sklearn.metrics import mean_absolute_error\r\n",
        "from sklearn.metrics import r2_score\r\n",
        "from sklearn.datasets import load_boston\r\n",
        "import warnings\r\n",
        "warnings.filterwarnings('ignore')"
      ],
      "execution_count": 21,
      "outputs": []
    },
    {
      "cell_type": "markdown",
      "metadata": {
        "id": "JorSCw_H_8pN"
      },
      "source": [
        "**Data preparation**"
      ]
    },
    {
      "cell_type": "code",
      "metadata": {
        "id": "4NyDhjAn__hx"
      },
      "source": [
        "def dataset_to_df(load):\r\n",
        "    # Load the input data into the dataframe\r\n",
        "    df = pd.DataFrame(load.data, columns=load.feature_names)\r\n",
        "\r\n",
        "    # Add the output data into the dataframe\r\n",
        "    df['label'] = pd.Series(load.target)\r\n",
        "\r\n",
        "    # Return the dataframe\r\n",
        "    return df\r\n",
        "\r\n",
        "df = dataset_to_df(load_boston())"
      ],
      "execution_count": 32,
      "outputs": []
    },
    {
      "cell_type": "code",
      "metadata": {
        "id": "veLemUODF1i0"
      },
      "source": [
        "from sklearn.model_selection import train_test_split\r\n",
        "\r\n",
        "# Getting the output variable\r\n",
        "y = df['label']\r\n",
        "\r\n",
        "# Getting the input variables\r\n",
        "X = df.drop(['label'], axis=1)\r\n",
        "\r\n",
        "# Diving our input and output into training and testing sets\r\n",
        "X_train, X_test, y_train, y_test = train_test_split(\r\n",
        "                                    X, y,\r\n",
        "                                    test_size=0.33,\r\n",
        "                                    random_state=42\r\n",
        "                                   )"
      ],
      "execution_count": 33,
      "outputs": []
    },
    {
      "cell_type": "code",
      "metadata": {
        "colab": {
          "base_uri": "https://localhost:8080/",
          "height": 204
        },
        "id": "d_mt__RWAC_O",
        "outputId": "e6b8d9fd-8703-4a5a-ab00-ddf9b38099e9"
      },
      "source": [
        "X.head()"
      ],
      "execution_count": 34,
      "outputs": [
        {
          "output_type": "execute_result",
          "data": {
            "text/html": [
              "<div>\n",
              "<style scoped>\n",
              "    .dataframe tbody tr th:only-of-type {\n",
              "        vertical-align: middle;\n",
              "    }\n",
              "\n",
              "    .dataframe tbody tr th {\n",
              "        vertical-align: top;\n",
              "    }\n",
              "\n",
              "    .dataframe thead th {\n",
              "        text-align: right;\n",
              "    }\n",
              "</style>\n",
              "<table border=\"1\" class=\"dataframe\">\n",
              "  <thead>\n",
              "    <tr style=\"text-align: right;\">\n",
              "      <th></th>\n",
              "      <th>CRIM</th>\n",
              "      <th>ZN</th>\n",
              "      <th>INDUS</th>\n",
              "      <th>CHAS</th>\n",
              "      <th>NOX</th>\n",
              "      <th>RM</th>\n",
              "      <th>AGE</th>\n",
              "      <th>DIS</th>\n",
              "      <th>RAD</th>\n",
              "      <th>TAX</th>\n",
              "      <th>PTRATIO</th>\n",
              "      <th>B</th>\n",
              "      <th>LSTAT</th>\n",
              "    </tr>\n",
              "  </thead>\n",
              "  <tbody>\n",
              "    <tr>\n",
              "      <th>0</th>\n",
              "      <td>0.00632</td>\n",
              "      <td>18.0</td>\n",
              "      <td>2.31</td>\n",
              "      <td>0.0</td>\n",
              "      <td>0.538</td>\n",
              "      <td>6.575</td>\n",
              "      <td>65.2</td>\n",
              "      <td>4.0900</td>\n",
              "      <td>1.0</td>\n",
              "      <td>296.0</td>\n",
              "      <td>15.3</td>\n",
              "      <td>396.90</td>\n",
              "      <td>4.98</td>\n",
              "    </tr>\n",
              "    <tr>\n",
              "      <th>1</th>\n",
              "      <td>0.02731</td>\n",
              "      <td>0.0</td>\n",
              "      <td>7.07</td>\n",
              "      <td>0.0</td>\n",
              "      <td>0.469</td>\n",
              "      <td>6.421</td>\n",
              "      <td>78.9</td>\n",
              "      <td>4.9671</td>\n",
              "      <td>2.0</td>\n",
              "      <td>242.0</td>\n",
              "      <td>17.8</td>\n",
              "      <td>396.90</td>\n",
              "      <td>9.14</td>\n",
              "    </tr>\n",
              "    <tr>\n",
              "      <th>2</th>\n",
              "      <td>0.02729</td>\n",
              "      <td>0.0</td>\n",
              "      <td>7.07</td>\n",
              "      <td>0.0</td>\n",
              "      <td>0.469</td>\n",
              "      <td>7.185</td>\n",
              "      <td>61.1</td>\n",
              "      <td>4.9671</td>\n",
              "      <td>2.0</td>\n",
              "      <td>242.0</td>\n",
              "      <td>17.8</td>\n",
              "      <td>392.83</td>\n",
              "      <td>4.03</td>\n",
              "    </tr>\n",
              "    <tr>\n",
              "      <th>3</th>\n",
              "      <td>0.03237</td>\n",
              "      <td>0.0</td>\n",
              "      <td>2.18</td>\n",
              "      <td>0.0</td>\n",
              "      <td>0.458</td>\n",
              "      <td>6.998</td>\n",
              "      <td>45.8</td>\n",
              "      <td>6.0622</td>\n",
              "      <td>3.0</td>\n",
              "      <td>222.0</td>\n",
              "      <td>18.7</td>\n",
              "      <td>394.63</td>\n",
              "      <td>2.94</td>\n",
              "    </tr>\n",
              "    <tr>\n",
              "      <th>4</th>\n",
              "      <td>0.06905</td>\n",
              "      <td>0.0</td>\n",
              "      <td>2.18</td>\n",
              "      <td>0.0</td>\n",
              "      <td>0.458</td>\n",
              "      <td>7.147</td>\n",
              "      <td>54.2</td>\n",
              "      <td>6.0622</td>\n",
              "      <td>3.0</td>\n",
              "      <td>222.0</td>\n",
              "      <td>18.7</td>\n",
              "      <td>396.90</td>\n",
              "      <td>5.33</td>\n",
              "    </tr>\n",
              "  </tbody>\n",
              "</table>\n",
              "</div>"
            ],
            "text/plain": [
              "      CRIM    ZN  INDUS  CHAS    NOX  ...  RAD    TAX  PTRATIO       B  LSTAT\n",
              "0  0.00632  18.0   2.31   0.0  0.538  ...  1.0  296.0     15.3  396.90   4.98\n",
              "1  0.02731   0.0   7.07   0.0  0.469  ...  2.0  242.0     17.8  396.90   9.14\n",
              "2  0.02729   0.0   7.07   0.0  0.469  ...  2.0  242.0     17.8  392.83   4.03\n",
              "3  0.03237   0.0   2.18   0.0  0.458  ...  3.0  222.0     18.7  394.63   2.94\n",
              "4  0.06905   0.0   2.18   0.0  0.458  ...  3.0  222.0     18.7  396.90   5.33\n",
              "\n",
              "[5 rows x 13 columns]"
            ]
          },
          "metadata": {
            "tags": []
          },
          "execution_count": 34
        }
      ]
    },
    {
      "cell_type": "markdown",
      "metadata": {
        "id": "Hcj22vjLAXBN"
      },
      "source": [
        "**Calling algorithms to be used**"
      ]
    },
    {
      "cell_type": "code",
      "metadata": {
        "id": "I1OnV7XGAV6U"
      },
      "source": [
        "from mlxtend.regressor import StackingCVRegressor\r\n",
        "from sklearn.linear_model import Ridge, Lasso\r\n",
        "from sklearn.svm import SVR\r\n",
        "from sklearn.ensemble import RandomForestRegressor\r\n",
        "from lightgbm import LGBMRegressor\r\n",
        "from xgboost import XGBRegressor\r\n",
        "\r\n",
        "xgb = XGBRegressor()\r\n",
        "lgbm = LGBMRegressor()\r\n",
        "rf = RandomForestRegressor()\r\n",
        "ridge = Ridge()\r\n",
        "lasso = Lasso()\r\n",
        "svr = SVR(kernel='linear')"
      ],
      "execution_count": 35,
      "outputs": []
    },
    {
      "cell_type": "code",
      "metadata": {
        "id": "Mo0EmGvfAioS"
      },
      "source": [
        "from mlxtend.regressor import StackingCVRegressor\r\n",
        "\r\n",
        "stack = StackingCVRegressor(regressors=(ridge, lasso, svr, rf, lgbm, xgb),\r\n",
        "                            meta_regressor=xgb, cv=12,\r\n",
        "                            use_features_in_secondary=True,\r\n",
        "                            store_train_meta_features=True,\r\n",
        "                            shuffle=False)\r\n",
        "\r\n",
        "stack.fit(X_train, y_train)\r\n",
        "\r\n",
        "X_test.columns = ['f0', 'f1', 'f2', 'f3', 'f4', 'f5', 'f6', 'f7', 'f8', 'f9', 'f10', 'f11', 'f12']\r\n",
        "pred = stack.predict(X_test)\r\n",
        "score = r2_score(y_test, pred)"
      ],
      "execution_count": 37,
      "outputs": []
    }
  ]
}