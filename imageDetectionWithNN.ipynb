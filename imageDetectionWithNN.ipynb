{
  "nbformat": 4,
  "nbformat_minor": 0,
  "metadata": {
    "colab": {
      "name": "Untitled27.ipynb",
      "provenance": [],
      "collapsed_sections": []
    },
    "kernelspec": {
      "name": "python3",
      "display_name": "Python 3"
    }
  },
  "cells": [
    {
      "cell_type": "markdown",
      "metadata": {
        "id": "imLQbI37szKv"
      },
      "source": [
        "**Deep computer vision**"
      ]
    },
    {
      "cell_type": "code",
      "metadata": {
        "id": "xBEWfICvsMVY"
      },
      "source": [
        "%tensorflow_version 2.x\r\n",
        "\r\n",
        "import tensorflow as tf\r\n",
        "\r\n",
        "from tensorflow.keras import datasets, layers, models\r\n",
        "import matplotlib.pyplot as plt"
      ],
      "execution_count": 1,
      "outputs": []
    },
    {
      "cell_type": "code",
      "metadata": {
        "colab": {
          "base_uri": "https://localhost:8080/"
        },
        "id": "7V6LT9KZte7j",
        "outputId": "77375425-c41d-4805-9953-49e69ccb2c01"
      },
      "source": [
        "#LOAD AND SPLIT DATASET\r\n",
        "(train_images, train_labels),(test_images, test_labels) = datasets.cifar10.load_data()\r\n",
        "\r\n",
        "\r\n",
        "#Normalize pixel values to be between 0 and 1\r\n",
        "train_images, test_images = train_images / 255.0 , test_images / 255.0\r\n",
        "\r\n",
        "class_names = ['airplane', 'automobile','bird','cat','deer','dog','frog','horse','ship','truck']\r\n"
      ],
      "execution_count": 2,
      "outputs": [
        {
          "output_type": "stream",
          "text": [
            "Downloading data from https://www.cs.toronto.edu/~kriz/cifar-10-python.tar.gz\n",
            "170500096/170498071 [==============================] - 4s 0us/step\n"
          ],
          "name": "stdout"
        }
      ]
    },
    {
      "cell_type": "code",
      "metadata": {
        "colab": {
          "base_uri": "https://localhost:8080/",
          "height": 280
        },
        "id": "HluH4OwqvZKx",
        "outputId": "26ba27ac-517f-4933-a154-68eccc7ea9a8"
      },
      "source": [
        "#Let's look at a one image\r\n",
        "\r\n",
        "IMG_INDEX = 7  #choose any random image\r\n",
        "\r\n",
        "plt.imshow(train_images[IMG_INDEX], cmap = plt.cm.binary)\r\n",
        "plt.xlabel(class_names[train_labels[IMG_INDEX][0]])\r\n",
        "plt.show()\r\n",
        "\r\n"
      ],
      "execution_count": 3,
      "outputs": [
        {
          "output_type": "display_data",
          "data": {
            "image/png": "[encoded data removed]",
            "text/plain": [
              "<Figure size 432x288 with 1 Axes>"
            ]
          },
          "metadata": {
            "tags": [],
            "needs_background": "light"
          }
        }
      ]
    },
    {
      "cell_type": "code",
      "metadata": {
        "id": "ZLaXf-63xDc5"
      },
      "source": [
        "model = models.Sequential()\r\n",
        "model.add(layers.Conv2D(32,(3,3), activation='relu',input_shape=(32,32,3)))#conv layer with filters no. 32 of size 3x3\r\n",
        "model.add(layers.MaxPooling2D((2,2))) # dimentionality reduction\r\n",
        "model.add(layers.Conv2D(64,(3,3),activation='relu'))\r\n",
        "model.add(layers.MaxPooling2D((2,2)))\r\n",
        "model.add(layers.Conv2D(64,(3,3),activation='relu'))  # rest of the layers do the same but with the outcome of the previous layers"
      ],
      "execution_count": 4,
      "outputs": []
    },
    {
      "cell_type": "code",
      "metadata": {
        "colab": {
          "base_uri": "https://localhost:8080/"
        },
        "id": "MbdVG8kdVlZW",
        "outputId": "abd79623-593c-4f4f-cffb-d950912d105e"
      },
      "source": [
        "model.summary()"
      ],
      "execution_count": null,
      "outputs": [
        {
          "output_type": "stream",
          "text": [
            "Model: \"sequential\"\n",
            "_________________________________________________________________\n",
            "Layer (type)                 Output Shape              Param #   \n",
            "=================================================================\n",
            "conv2d (Conv2D)              (None, 30, 30, 32)        896       \n",
            "_________________________________________________________________\n",
            "max_pooling2d (MaxPooling2D) (None, 15, 15, 32)        0         \n",
            "_________________________________________________________________\n",
            "conv2d_1 (Conv2D)            (None, 13, 13, 64)        18496     \n",
            "_________________________________________________________________\n",
            "max_pooling2d_1 (MaxPooling2 (None, 6, 6, 64)          0         \n",
            "_________________________________________________________________\n",
            "conv2d_2 (Conv2D)            (None, 4, 4, 64)          36928     \n",
            "=================================================================\n",
            "Total params: 56,320\n",
            "Trainable params: 56,320\n",
            "Non-trainable params: 0\n",
            "_________________________________________________________________\n"
          ],
          "name": "stdout"
        }
      ]
    },
    {
      "cell_type": "markdown",
      "metadata": {
        "id": "rZYnDF8oV1m6"
      },
      "source": [
        "After looking at the summary you should notice that the depth of our image increases but the spacial dimensions reduce drastically"
      ]
    },
    {
      "cell_type": "code",
      "metadata": {
        "colab": {
          "base_uri": "https://localhost:8080/"
        },
        "id": "wG6go-W_V4Wv",
        "outputId": "0d9f88a3-3175-45a7-d65a-472f31da61b1"
      },
      "source": [
        "# Now we need to take these extracted features and add a way to classify them\r\n",
        "\r\n",
        "model.add(layers.Flatten())\r\n",
        "model.add(layers.Dense(64,activation='relu'))\r\n",
        "model.add(layers.Dense(10))\r\n",
        "\r\n",
        "model.summary()"
      ],
      "execution_count": 5,
      "outputs": [
        {
          "output_type": "stream",
          "text": [
            "Model: \"sequential\"\n",
            "_________________________________________________________________\n",
            "Layer (type)                 Output Shape              Param #   \n",
            "=================================================================\n",
            "conv2d (Conv2D)              (None, 30, 30, 32)        896       \n",
            "_________________________________________________________________\n",
            "max_pooling2d (MaxPooling2D) (None, 15, 15, 32)        0         \n",
            "_________________________________________________________________\n",
            "conv2d_1 (Conv2D)            (None, 13, 13, 64)        18496     \n",
            "_________________________________________________________________\n",
            "max_pooling2d_1 (MaxPooling2 (None, 6, 6, 64)          0         \n",
            "_________________________________________________________________\n",
            "conv2d_2 (Conv2D)            (None, 4, 4, 64)          36928     \n",
            "_________________________________________________________________\n",
            "flatten (Flatten)            (None, 1024)              0         \n",
            "_________________________________________________________________\n",
            "dense (Dense)                (None, 64)                65600     \n",
            "_________________________________________________________________\n",
            "dense_1 (Dense)              (None, 10)                650       \n",
            "=================================================================\n",
            "Total params: 122,570\n",
            "Trainable params: 122,570\n",
            "Non-trainable params: 0\n",
            "_________________________________________________________________\n"
          ],
          "name": "stdout"
        }
      ]
    },
    {
      "cell_type": "code",
      "metadata": {
        "colab": {
          "base_uri": "https://localhost:8080/"
        },
        "id": "JsW1n1JEWwCC",
        "outputId": "d07747c4-34b5-45cc-d7cb-bc93aca552d0"
      },
      "source": [
        "model.compile(optimizer='adam',\r\n",
        "              loss=tf.keras.losses.SparseCategoricalCrossentropy(from_logits=True),\r\n",
        "              metrics=['accuracy']\r\n",
        "              )\r\n",
        "history = model.fit(train_images, train_labels, epochs=4,\r\n",
        "                    validation_data=(test_images,test_labels))"
      ],
      "execution_count": 6,
      "outputs": [
        {
          "output_type": "stream",
          "text": [
            "Epoch 1/4\n",
            "1563/1563 [==============================] - 72s 46ms/step - loss: 1.7737 - accuracy: 0.3433 - val_loss: 1.2537 - val_accuracy: 0.5476\n",
            "Epoch 2/4\n",
            "1563/1563 [==============================] - 70s 45ms/step - loss: 1.2036 - accuracy: 0.5720 - val_loss: 1.0828 - val_accuracy: 0.6209\n",
            "Epoch 3/4\n",
            "1563/1563 [==============================] - 71s 45ms/step - loss: 1.0239 - accuracy: 0.6404 - val_loss: 0.9846 - val_accuracy: 0.6540\n",
            "Epoch 4/4\n",
            "1563/1563 [==============================] - 71s 46ms/step - loss: 0.9193 - accuracy: 0.6761 - val_loss: 0.9520 - val_accuracy: 0.6672\n"
          ],
          "name": "stdout"
        }
      ]
    },
    {
      "cell_type": "code",
      "metadata": {
        "colab": {
          "base_uri": "https://localhost:8080/"
        },
        "id": "7XKrZa17ZHSo",
        "outputId": "4a0140e6-b011-4421-beed-75bebad2696c"
      },
      "source": [
        "#Evaluating the Model\r\n",
        "\r\n",
        "test_loss, test_acc = model.evaluate(test_images,test_labels, verbose=2)\r\n",
        "print(test_acc)"
      ],
      "execution_count": 7,
      "outputs": [
        {
          "output_type": "stream",
          "text": [
            "313/313 - 4s - loss: 0.9520 - accuracy: 0.6672\n",
            "0.6672000288963318\n"
          ],
          "name": "stdout"
        }
      ]
    },
    {
      "cell_type": "markdown",
      "metadata": {
        "id": "oh2cbB4XbLCC"
      },
      "source": [
        "**Data Augmentation**"
      ]
    },
    {
      "cell_type": "code",
      "metadata": {
        "colab": {
          "base_uri": "https://localhost:8080/",
          "height": 1000
        },
        "id": "xI-1B4mebOUx",
        "outputId": "3f1a248b-67a3-4e67-e830-4927ed8ea95b"
      },
      "source": [
        "from keras.preprocessing import image\r\n",
        "from keras.preprocessing.image import ImageDataGenerator\r\n",
        "\r\n",
        "#creates a data generator object that transforms images\r\n",
        "datagen = ImageDataGenerator(\r\n",
        "    rotation_range=40,\r\n",
        "    width_shift_range=0.2,\r\n",
        "    height_shift_range=0.2,\r\n",
        "    shear_range=0.2,\r\n",
        "    zoom_range=0.2,\r\n",
        "    horizontal_flip=True,\r\n",
        "    fill_mode='nearest'\r\n",
        ")\r\n",
        "\r\n",
        "#pick an image to transform\r\n",
        "test_img = train_images[20]\r\n",
        "img = image.img_to_array(test_img)# convert to numpy array\r\n",
        "img = img.reshape((1,)+img.shape) #reshape image\r\n",
        "\r\n",
        "i = 0\r\n",
        "\r\n",
        "for batch in datagen.flow(img, save_prefix='test', save_format='jpeg'):\r\n",
        "  plt.figure(i)\r\n",
        "  plot=plt.imshow(image.img_to_array(batch[0]))\r\n",
        "  i+=1\r\n",
        "  if(i>4):\r\n",
        "    break\r\n",
        "\r\n",
        "plt.show()"
      ],
      "execution_count": 8,
      "outputs": [
        {
          "output_type": "display_data",
          "data": {
            "image/png": "[encoded data removed]",
            "text/plain": [
              "<Figure size 432x288 with 1 Axes>"
            ]
          },
          "metadata": {
            "tags": [],
            "needs_background": "light"
          }
        },
        {
          "output_type": "display_data",
          "data": {
            "image/png": "[encoded data removed]",
            "text/plain": [
              "<Figure size 432x288 with 1 Axes>"
            ]
          },
          "metadata": {
            "tags": [],
            "needs_background": "light"
          }
        },
        {
          "output_type": "display_data",
          "data": {
            "image/png": "[encoded data removed]",
            "text/plain": [
              "<Figure size 432x288 with 1 Axes>"
            ]
          },
          "metadata": {
            "tags": [],
            "needs_background": "light"
          }
        },
        {
          "output_type": "display_data",
          "data": {
            "image/png": "[encoded data removed]",
            "text/plain": [
              "<Figure size 432x288 with 1 Axes>"
            ]
          },
          "metadata": {
            "tags": [],
            "needs_background": "light"
          }
        },
        {
          "output_type": "display_data",
          "data": {
            "image/png": "[encoded data removed]",
            "text/plain": [
              "<Figure size 432x288 with 1 Axes>"
            ]
          },
          "metadata": {
            "tags": [],
            "needs_background": "light"
          }
        }
      ]
    },
    {
      "cell_type": "markdown",
      "metadata": {
        "id": "n0aHRYyWUQCX"
      },
      "source": [
        "**Using a pretrained Model**"
      ]
    },
    {
      "cell_type": "code",
      "metadata": {
        "id": "OdnpfTYsR8n2"
      },
      "source": [
        "import os\r\n",
        "import numpy as np\r\n",
        "import matplotlib.pyplot as plt\r\n",
        "import tensorflow as tf\r\n",
        "keras = tf.keras"
      ],
      "execution_count": null,
      "outputs": []
    },
    {
      "cell_type": "code",
      "metadata": {
        "id": "KsOcXxgOU03s"
      },
      "source": [
        "import tensorflow_datasets as tfds\r\n",
        "tfds.disable_progress_bar()\r\n",
        "\r\n",
        "#split the data manually into 80% training, 10% testing, 10% validation\r\n",
        "(raw_train, raw_validation, raw_test), metadata = tfds.load(\r\n",
        "    'cats_vs_dogs',\r\n",
        "    split=['train[:80%]','train[80%:90%]','train[90%:]'],\r\n",
        "    with_info=True,\r\n",
        "    as_supervised=True,\r\n",
        ")\r\n"
      ],
      "execution_count": 9,
      "outputs": []
    },
    {
      "cell_type": "code",
      "metadata": {
        "id": "tPddu4MeV3Dv"
      },
      "source": [
        "get_label_name = metadata.features['label'].int2str  # creates a function object that we can use to get labels\r\n",
        "\r\n",
        "# display 2 images from the dataset\r\n",
        "for image, label in raw_train.take(5):\r\n",
        "  plt.figure()\r\n",
        "  plt.imshow(image)\r\n",
        "  plt.title(get_label_name(label))"
      ],
      "execution_count": null,
      "outputs": []
    },
    {
      "cell_type": "code",
      "metadata": {
        "id": "i1AzfBejWB9b"
      },
      "source": [
        "IMG_SIZE = 160 # All images will be resized to 160x160\r\n",
        "\r\n",
        "def format_example(image, label):\r\n",
        "  \"\"\"\r\n",
        "  returns an image that is reshaped to IMG_SIZE\r\n",
        "  \"\"\"\r\n",
        "  image = tf.cast(image, tf.float32)\r\n",
        "  image = (image/127.5) - 1\r\n",
        "  image = tf.image.resize(image, (IMG_SIZE, IMG_SIZE))\r\n",
        "  return image, label"
      ],
      "execution_count": null,
      "outputs": []
    },
    {
      "cell_type": "code",
      "metadata": {
        "id": "uySlnWPKWGKb"
      },
      "source": [
        "\r\n",
        "train = raw_train.map(format_example)\r\n",
        "validation = raw_validation.map(format_example)\r\n",
        "test = raw_test.map(format_example)\r\n",
        "\r\n",
        "for image, label in train.take(2):\r\n",
        "  plt.figure()\r\n",
        "  plt.imshow(image)\r\n",
        "  plt.title(get_label_name(label))"
      ],
      "execution_count": null,
      "outputs": []
    },
    {
      "cell_type": "code",
      "metadata": {
        "id": "s9agB0TJWPQp"
      },
      "source": [
        "# Training the model\r\n",
        "\r\n",
        "base_learning_rate = 0.0001\r\n",
        "model.compile(optimizer=tf.keras.optimizers.RMSprop(lr=base_learning_rate),\r\n",
        "              loss=tf.keras.losses.BinaryCrossentropy(from_logits=True),\r\n",
        "              metrics=['accuracy'])\r\n",
        "\r\n",
        "# We can evaluate the model right now to see how it does before training it on our new images\r\n",
        "initial_epochs = 3\r\n",
        "validation_steps=20\r\n",
        "\r\n",
        "loss0,accuracy0 = model.evaluate(validation_batches, steps = validation_steps)\r\n",
        "\r\n",
        "# Now we can train it on our images\r\n",
        "history = model.fit(train_batches,\r\n",
        "                    epochs=initial_epochs,\r\n",
        "                    validation_data=validation_batches)\r\n",
        "\r\n",
        "acc = history.history['accuracy']\r\n",
        "print(acc)\r\n",
        "\r\n",
        "model.save(\"dogs_vs_cats.h5\")  # we can save the model and reload it at anytime in the future\r\n",
        "new_model = tf.keras.models.load_model('dogs_vs_cats.h5')"
      ],
      "execution_count": null,
      "outputs": []
    }
  ]
}